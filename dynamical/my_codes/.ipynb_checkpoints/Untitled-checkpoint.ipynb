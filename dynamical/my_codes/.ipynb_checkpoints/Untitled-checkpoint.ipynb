{
 "cells": [
  {
   "cell_type": "code",
   "execution_count": 1,
   "metadata": {},
   "outputs": [
    {
     "data": {
      "text/plain": [
       "\"D:\\\\ProgramData\\\\Anaconda3\\\\python.exe\""
      ]
     },
     "execution_count": 1,
     "metadata": {},
     "output_type": "execute_result"
    }
   ],
   "source": [
    "ENV[\"PYTHON\"] = \"D:\\\\ProgramData\\\\Anaconda3\\\\python.exe\""
   ]
  },
  {
   "cell_type": "code",
   "execution_count": 2,
   "metadata": {},
   "outputs": [
    {
     "name": "stdout",
     "output_type": "stream",
     "text": [
      "\u001b[32m\u001b[1m  Building\u001b[22m\u001b[39m Conda ─→ `C:\\Users\\great\\.julia\\packages\\Conda\\CpuvI\\deps\\build.log`\n",
      "\u001b[32m\u001b[1m  Building\u001b[22m\u001b[39m PyCall → `C:\\Users\\great\\.julia\\packages\\PyCall\\0jMpb\\deps\\build.log`\n"
     ]
    }
   ],
   "source": [
    "using Pkg\n",
    "Pkg.build(\"PyCall\")"
   ]
  },
  {
   "cell_type": "code",
   "execution_count": 3,
   "metadata": {},
   "outputs": [
    {
     "name": "stderr",
     "output_type": "stream",
     "text": [
      "┌ Info: Recompiling stale cache file C:\\Users\\great\\.julia\\compiled\\v1.1\\PyCall\\GkzkC.ji for PyCall [438e738f-606a-5dbb-bf0a-cddfbfd45ab0]\n",
      "└ @ Base loading.jl:1184\n"
     ]
    }
   ],
   "source": [
    "using PyCall"
   ]
  },
  {
   "cell_type": "code",
   "execution_count": 4,
   "metadata": {},
   "outputs": [
    {
     "data": {
      "text/plain": [
       "v\"3.7.1\""
      ]
     },
     "execution_count": 4,
     "metadata": {},
     "output_type": "execute_result"
    }
   ],
   "source": [
    "pyversion"
   ]
  },
  {
   "cell_type": "code",
   "execution_count": 5,
   "metadata": {},
   "outputs": [
    {
     "name": "stderr",
     "output_type": "stream",
     "text": [
      "D:\\ProgramData\\Anaconda3\\lib\\site-packages\\pandas\\core\\base.py:1241: SettingWithCopyWarning: modifications to a property of a datetimelike object are not supported and are discarded. Change values on the original.\r\n",
      "  return self._update_inplace(result)\r\n"
     ]
    }
   ],
   "source": [
    "py\"\"\"\n",
    "import pandas as pd\n",
    "import numpy as np\n",
    "from pprint import pprint\n",
    "\n",
    "\n",
    "# 读取**路所有刷卡记录\n",
    "df = pd.read_csv(r'D:\\Nutstore\\paper_writing\\2019TRB\\2_headway calculation\\AGPS05210619.csv', engine = 'python')\n",
    "df['ACTDATETIME'] = df['ACTDATETIME'].astype('datetime64[ns]')\n",
    "#df['RECDATETIME'] = df['RECDATETIME'].astype('datetime64[ns]')\n",
    "\n",
    "df = df.dropna(subset = ['STATIONNAME'])\n",
    "df = df.dropna(subset = ['PRODUCTID'])\n",
    "\n",
    "date_list = df['ACTDATETIME'].dt.date\n",
    "date_list.drop_duplicates(inplace = True)\n",
    "\n",
    "stop_list = ['三井','通江路巢湖路','通江路河海路','天安工业村','凤凰大酒店','锦江国际大酒店']\n",
    "\"\"\""
   ]
  },
  {
   "cell_type": "code",
   "execution_count": 7,
   "metadata": {},
   "outputs": [
    {
     "name": "stdout",
     "output_type": "stream",
     "text": [
      "base64 binary data: WyfI/b6uJywgJ82ova3Ct7Oyuv7CtycsICfNqL2twre607qjwrcnLCAnzOywsrmk0rW05ScsICe377vLtPO+xrXqJywgJ731va25+rzKtPO+xrXqJ10NCg==\n"
     ]
    }
   ],
   "source": []
  },
  {
   "cell_type": "code",
   "execution_count": null,
   "metadata": {},
   "outputs": [],
   "source": []
  }
 ],
 "metadata": {
  "kernelspec": {
   "display_name": "Julia 1.1.0",
   "language": "julia",
   "name": "julia-1.1"
  },
  "language_info": {
   "file_extension": ".jl",
   "mimetype": "application/julia",
   "name": "julia",
   "version": "1.1.0"
  }
 },
 "nbformat": 4,
 "nbformat_minor": 2
}
