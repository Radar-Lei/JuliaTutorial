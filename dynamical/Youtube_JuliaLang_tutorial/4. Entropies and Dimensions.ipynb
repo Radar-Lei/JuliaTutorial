{
 "cells": [
  {
   "cell_type": "markdown",
   "metadata": {
    "collapsed": true
   },
   "source": [
    "# 4.A. Generalized Entropy\n",
    "\n",
    "* In the study of dynamical systems there are many quantities that identify as \"entropy\".\n",
    "* These quantities are not the more commonly known [thermodynamic ones](https://en.wikipedia.org/wiki/Entropy), used in Statistical Physics. \n",
    "* Rather, they are more like the entropies of [information theory](https://en.wikipedia.org/wiki/Entropy_(information_theory), which represent information contained within a dataset. \n",
    "* In general, the more \"uncertain\" or \"random\" the dataset is, the larger its entropy will be. On the other hand, the lower the entropy, the more \"predictable\" the dataset becomes.\n",
    "\n",
    "\n",
    "Let $p$ be an array of probabilities (such that it sums to 1). Then the generalized entropy is defined as \n",
    "\n",
    "$$\n",
    "H_\\alpha(p) = \\frac{1}{1-\\alpha}\\log\\left(\\sum_i p[i]^\\alpha\\right)\n",
    "$$\n",
    "\n",
    "and is also called [Rényi entropy](https://en.wikipedia.org/wiki/R%C3%A9nyi_entropy). Other entropies, like e.g. the [Shannon entropy](https://en.wikipedia.org/wiki/Entropy_(information_theory) are generalized by it, since for $\\alpha = 1$, the Rényi entropy becomes the Shannon entropy,\n",
    "\n",
    "$$\n",
    "H_1(p) = -\\left(\\sum_i p[i] \\log (p[i]) \\right)\n",
    "$$\n",
    "\n",
    "The Rényi entropy can be computed for a specific dataset, given $p$. But how does one get $p$?\n",
    "1. $p$ represents the probability that a point of a dataset falls into a specific \"bin\". \n",
    "2. It is nothing more than the (normalized) histogram of the dataset!"
   ]
  },
  {
   "cell_type": "code",
   "execution_count": 96,
   "metadata": {},
   "outputs": [],
   "source": [
    "using DynamicalSystems\n",
    "using PyPlot\n",
    "PyPlot.rc(\"font\", size = 16)          # set default fontsize\n",
    "PyPlot.rc(\"figure\", figsize = (6, 4)) # set default figsize"
   ]
  },
  {
   "cell_type": "markdown",
   "metadata": {},
   "source": [
    "Let's generate a dataset so that we can start calculating entropies."
   ]
  },
  {
   "cell_type": "code",
   "execution_count": 97,
   "metadata": {},
   "outputs": [
    {
     "data": {
      "text/plain": [
       "3-dimensional Dataset{Float64} with 100000 points\n",
       " 0.261556   0.164007  0.196478  \n",
       " 0.452325   0.807017  0.797308  \n",
       " 0.0342585  0.764861  0.0967957 \n",
       " 0.0751813  0.103845  0.44334   \n",
       " 0.886501   0.788997  0.624878  \n",
       " 0.414708   0.546698  0.844933  \n",
       " 0.551972   0.897633  0.94076   \n",
       " 0.139516   0.416897  0.623235  \n",
       " 0.279997   0.90268   0.363965  \n",
       " 0.286531   0.152263  0.00365862\n",
       " 0.569671   0.381835  0.91134   \n",
       " 0.259825   0.521132  0.402599  \n",
       " 0.168392   0.459285  0.488081  \n",
       " ⋮                              \n",
       " 0.740727   0.468503  0.690603  \n",
       " 0.883803   0.559733  0.715151  \n",
       " 0.495684   0.570635  0.00320946\n",
       " 0.84452    0.794498  0.954922  \n",
       " 0.56409    0.710457  0.0271693 \n",
       " 0.542793   0.673715  0.562314  \n",
       " 0.470879   0.26082   0.676526  \n",
       " 0.907882   0.199252  0.174462  \n",
       " 0.0745851  0.729529  0.670878  \n",
       " 0.423369   0.415596  0.881763  \n",
       " 0.192003   0.939846  0.382687  \n",
       " 0.881037   0.251176  0.248866  \n"
      ]
     },
     "execution_count": 97,
     "metadata": {},
     "output_type": "execute_result"
    }
   ],
   "source": [
    "N = 100000\n",
    "randomdata = Dataset(rand(N,3))"
   ]
  },
  {
   "cell_type": "markdown",
   "metadata": {},
   "source": [
    "---\n",
    "The call signature we need is\n",
    "\n",
    "```julia\n",
    "genentropy(α, ε, dataset::AbstractDataset; base = e)\n",
    "```\n",
    "* This function calculates the generalized entropy of order `α`.\n",
    "* It first calculates the probability array $p$.\n",
    "* The \"histogram\" is created by partitioning the `dataset` into boxes of size `ε`.\n"
   ]
  },
  {
   "cell_type": "code",
   "execution_count": 98,
   "metadata": {
    "scrolled": true
   },
   "outputs": [
    {
     "data": {
      "text/plain": [
       "6.897403444583892"
      ]
     },
     "execution_count": 98,
     "metadata": {},
     "output_type": "execute_result"
    }
   ],
   "source": [
    "genentropy(2, 0.1, randomdata)"
   ]
  },
  {
   "cell_type": "code",
   "execution_count": 99,
   "metadata": {
    "scrolled": true
   },
   "outputs": [
    {
     "data": {
      "text/plain": [
       "11.415780605583066"
      ]
     },
     "execution_count": 99,
     "metadata": {},
     "output_type": "execute_result"
    }
   ],
   "source": [
    "genentropy(2, 0.01, randomdata)"
   ]
  },
  {
   "cell_type": "code",
   "execution_count": 100,
   "metadata": {},
   "outputs": [
    {
     "data": {
      "text/plain": [
       "11.512845468169079"
      ]
     },
     "execution_count": 100,
     "metadata": {},
     "output_type": "execute_result"
    }
   ],
   "source": [
    "genentropy(2, 0.001, randomdata)"
   ]
  },
  {
   "cell_type": "code",
   "execution_count": 101,
   "metadata": {},
   "outputs": [
    {
     "data": {
      "text/plain": [
       "11.512925464969248"
      ]
     },
     "execution_count": 101,
     "metadata": {},
     "output_type": "execute_result"
    }
   ],
   "source": [
    "genentropy(2, 0.0001, randomdata)"
   ]
  },
  {
   "cell_type": "markdown",
   "metadata": {},
   "source": [
    "Note that the output of `genentropy` changed with changing $\\varepsilon$ until we hit $\\varepsilon = 0.001$. \n",
    "\n",
    "At this point the value for the entropy has already saturated. There's no use in partitioning the dataset in smaller boxes. Every bin already contains at most one point.\n",
    "\n",
    "---\n"
   ]
  },
  {
   "cell_type": "markdown",
   "metadata": {},
   "source": [
    "`genentropy` is conveniently used with outputs of e.g. `trajectory` or `poincaresos`, because they return a `Dataset`.\n",
    "\n",
    "Here we create a trajectory for the towel map, a three dimensional chaotic discrete system."
   ]
  },
  {
   "cell_type": "code",
   "execution_count": 131,
   "metadata": {},
   "outputs": [
    {
     "data": {
      "text/plain": [
       "3-dimensional discrete dynamical system\n",
       " state:       [0.085, -0.121, 0.075]\n",
       " e.o.m.:      eom_towel\n",
       " in-place?    false\n",
       " jacobian:    jacob_towel\n",
       " parameters:  nothing"
      ]
     },
     "execution_count": 131,
     "metadata": {},
     "output_type": "execute_result"
    }
   ],
   "source": [
    "towel = Systems.towel()"
   ]
  },
  {
   "cell_type": "code",
   "execution_count": 132,
   "metadata": {},
   "outputs": [
    {
     "data": {
      "text/plain": [
       "\"3-dimensional Dataset{Float64} with 100000 points\""
      ]
     },
     "execution_count": 132,
     "metadata": {},
     "output_type": "execute_result"
    }
   ],
   "source": [
    "tr = trajectory(towel, N-1);\n",
    "summary(tr)"
   ]
  },
  {
   "cell_type": "markdown",
   "metadata": {},
   "source": [
    "and calculate its entropy:"
   ]
  },
  {
   "cell_type": "code",
   "execution_count": 103,
   "metadata": {},
   "outputs": [
    {
     "data": {
      "text/plain": [
       "9.471952690471404"
      ]
     },
     "execution_count": 103,
     "metadata": {},
     "output_type": "execute_result"
    }
   ],
   "source": [
    "genentropy(1, 0.01, tr) "
   ]
  },
  {
   "cell_type": "markdown",
   "metadata": {},
   "source": [
    "Let's also compare the entropy of the above dataset (a trajectory of the towel map) with that of a random dataset:"
   ]
  },
  {
   "cell_type": "code",
   "execution_count": 104,
   "metadata": {},
   "outputs": [
    {
     "data": {
      "text/plain": [
       "11.443762780321496"
      ]
     },
     "execution_count": 104,
     "metadata": {},
     "output_type": "execute_result"
    }
   ],
   "source": [
    "genentropy(1, 0.01, randomdata)"
   ]
  },
  {
   "cell_type": "markdown",
   "metadata": {},
   "source": [
    "* As expected, the entropy of the random dataset is higher.\n",
    "\n",
    "---\n",
    "\n",
    "How much time does the computation take?"
   ]
  },
  {
   "cell_type": "code",
   "execution_count": 105,
   "metadata": {},
   "outputs": [
    {
     "name": "stdout",
     "output_type": "stream",
     "text": [
      "  18.848 ms (7 allocations: 3.05 MiB)\n"
     ]
    }
   ],
   "source": [
    "using BenchmarkTools\n",
    "@btime genentropy(1, 0.01, $tr);"
   ]
  },
  {
   "cell_type": "markdown",
   "metadata": {},
   "source": [
    "# 4.B. Specialized histogram\n",
    "* Partitioning the dataset (i.e. generating a \"histogram\") is in general a costly operation that depends exponentially on the number of dimensions.\n",
    "* In this specific application however, we can tremendously reduce the memory allocation and time spent!\n",
    "\n",
    "To get the array of probabilities `p` for size `ε` from the trajectory of the towel map we use the function `non0hist`"
   ]
  },
  {
   "cell_type": "code",
   "execution_count": 106,
   "metadata": {},
   "outputs": [
    {
     "data": {
      "text/plain": [
       "19407-element Array{Float64,1}:\n",
       " 1.0e-5 \n",
       " 1.0e-5 \n",
       " 3.0e-5 \n",
       " 0.00033\n",
       " 0.00022\n",
       " 0.0002 \n",
       " 0.00017\n",
       " 0.00013\n",
       " 7.0e-5 \n",
       " 0.00011\n",
       " 7.0e-5 \n",
       " 0.00015\n",
       " 0.00019\n",
       " ⋮      \n",
       " 2.0e-5 \n",
       " 1.0e-5 \n",
       " 3.0e-5 \n",
       " 4.0e-5 \n",
       " 5.0e-5 \n",
       " 4.0e-5 \n",
       " 2.0e-5 \n",
       " 3.0e-5 \n",
       " 4.0e-5 \n",
       " 5.0e-5 \n",
       " 1.0e-5 \n",
       " 1.0e-5 "
      ]
     },
     "execution_count": 106,
     "metadata": {},
     "output_type": "execute_result"
    }
   ],
   "source": [
    "ε = 0.01\n",
    "p = non0hist(ε, tr)"
   ]
  },
  {
   "cell_type": "markdown",
   "metadata": {},
   "source": [
    "Here's a sanity check, showing our probabilities should sum to `1`."
   ]
  },
  {
   "cell_type": "code",
   "execution_count": 107,
   "metadata": {
    "scrolled": false
   },
   "outputs": [
    {
     "data": {
      "text/plain": [
       "1.0000000000000002"
      ]
     },
     "execution_count": 107,
     "metadata": {},
     "output_type": "execute_result"
    }
   ],
   "source": [
    "sum(p)"
   ]
  },
  {
   "cell_type": "markdown",
   "metadata": {},
   "source": [
    "How long does computing the probabilities take?"
   ]
  },
  {
   "cell_type": "code",
   "execution_count": 108,
   "metadata": {},
   "outputs": [
    {
     "name": "stdout",
     "output_type": "stream",
     "text": [
      "  18.665 ms (6 allocations: 3.05 MiB)\n"
     ]
    }
   ],
   "source": [
    "@btime non0hist($ε, $tr);"
   ]
  },
  {
   "cell_type": "markdown",
   "metadata": {},
   "source": [
    "How long does this take if we create 9-dimensional data and compare again?"
   ]
  },
  {
   "cell_type": "code",
   "execution_count": 109,
   "metadata": {
    "scrolled": false
   },
   "outputs": [
    {
     "name": "stdout",
     "output_type": "stream",
     "text": [
      "  25.168 ms (6 allocations: 7.63 MiB)\n"
     ]
    }
   ],
   "source": [
    "nine = Dataset(rand(N, 9))\n",
    "@btime non0hist($ε, $nine);"
   ]
  },
  {
   "cell_type": "markdown",
   "metadata": {},
   "source": [
    "`non0hist` uses a very specialized (to-be-published) algorithm and its time does not depend exponentially on the dimensionality of the dataset, instead only linearly. It also has a linearithmic complexity (`n log(n)`) on the number of points."
   ]
  },
  {
   "cell_type": "markdown",
   "metadata": {},
   "source": [
    "# 4.C. Generalized Dimension\n",
    "1. There are numerous methods that one can use to calculate a so-called \"dimension\" of a\n",
    "dataset, like for example the [Fractal dimension](https://en.wikipedia.org/wiki/Fractal_dimension).\n",
    "\n",
    "2. Most of the time these dimensions indicate some kind of scaling behavior. \n",
    "\n",
    "3. For example, the scaling of `genentropy` with decreasing `ε` gives the so-called \"generalized dimension\".\n",
    "\n",
    "\n",
    "$ E \\approx -D\\log(\\varepsilon)$ with $E$ the entropy and $D$ the \"dimension\".\n",
    "\n",
    "---\n",
    "Let's find out the dimension of the attractor of the Towel Map!\n",
    "\n"
   ]
  },
  {
   "cell_type": "code",
   "execution_count": 110,
   "metadata": {},
   "outputs": [
    {
     "data": {
      "text/plain": [
       "\"3-dimensional Dataset{Float64} with 1000001 points\""
      ]
     },
     "execution_count": 110,
     "metadata": {},
     "output_type": "execute_result"
    }
   ],
   "source": [
    "towel = Systems.towel()\n",
    "towel_tr = trajectory(towel, 1000000, Ttr = 100);\n",
    "summary(towel_tr)"
   ]
  },
  {
   "cell_type": "markdown",
   "metadata": {},
   "source": [
    "*(Note that more points = more precision = more computations = more time!)*\n",
    "\n",
    "Now we have to compute `genentropy` for different ε.\n",
    "\n",
    "Which ε should we use...?\n",
    "\n",
    "Let's do a \"random\" guess..."
   ]
  },
  {
   "cell_type": "code",
   "execution_count": 111,
   "metadata": {},
   "outputs": [
    {
     "data": {
      "text/plain": [
       "12-element Array{Float64,1}:\n",
       "  0.0001                \n",
       "  0.00028480358684358016\n",
       "  0.0008111308307896872 \n",
       "  0.0023101297000831605 \n",
       "  0.006579332246575682  \n",
       "  0.01873817422860384   \n",
       "  0.0533669923120631    \n",
       "  0.15199110829529336   \n",
       "  0.43287612810830584   \n",
       "  1.2328467394420661    \n",
       "  3.511191734215131     \n",
       " 10.0                   "
      ]
     },
     "execution_count": 111,
     "metadata": {},
     "output_type": "execute_result"
    }
   ],
   "source": [
    "ες =  10.0 .^ range(-4, stop=1, length=12)"
   ]
  },
  {
   "cell_type": "code",
   "execution_count": 112,
   "metadata": {},
   "outputs": [
    {
     "data": {
      "text/plain": [
       "12-element Array{Float64,1}:\n",
       " 13.81169511444466  \n",
       " 13.781251823885533 \n",
       " 13.559365425765614 \n",
       " 12.546973720631664 \n",
       " 10.484145611870376 \n",
       "  8.234104294388032 \n",
       "  5.983454782350074 \n",
       "  3.7462781419120246\n",
       "  1.2935711847117133\n",
       " -0.0               \n",
       " -0.0               \n",
       " -0.0               "
      ]
     },
     "execution_count": 112,
     "metadata": {},
     "output_type": "execute_result"
    }
   ],
   "source": [
    "Es = zero(ες)\n",
    "for (i, ε) ∈ enumerate(ες)\n",
    "    Es[i] = genentropy(1, ε, towel_tr)\n",
    "end\n",
    "Es"
   ]
  },
  {
   "cell_type": "markdown",
   "metadata": {},
   "source": [
    "**Shorter version (thanks broadcasting!)**"
   ]
  },
  {
   "cell_type": "code",
   "execution_count": 113,
   "metadata": {},
   "outputs": [
    {
     "data": {
      "text/plain": [
       "12-element Array{Float64,1}:\n",
       " 13.81169511444466  \n",
       " 13.781251823885533 \n",
       " 13.559365425765614 \n",
       " 12.546973720631664 \n",
       " 10.484145611870376 \n",
       "  8.234104294388032 \n",
       "  5.983454782350074 \n",
       "  3.7462781419120246\n",
       "  1.2935711847117133\n",
       " -0.0               \n",
       " -0.0               \n",
       " -0.0               "
      ]
     },
     "execution_count": 113,
     "metadata": {},
     "output_type": "execute_result"
    }
   ],
   "source": [
    "Es = genentropy.(1, ες, Ref(towel_tr))"
   ]
  },
  {
   "cell_type": "markdown",
   "metadata": {},
   "source": [
    "*usage of `Ref` ensures broadcasting over `ες` but not over `towel_tr`, which is also iterable.*"
   ]
  },
  {
   "cell_type": "markdown",
   "metadata": {},
   "source": [
    "Alright. Remember that it should be that $E \\approx -D\\log(\\varepsilon)$\n",
    " with $E$ the entropy and $D$ the \"dimension\". \n",
    "\n",
    "Let's plot and see:"
   ]
  },
  {
   "cell_type": "code",
   "execution_count": 114,
   "metadata": {
    "scrolled": false
   },
   "outputs": [
    {
     "data": {
      "image/png": "[encoded data removed]",
      "text/plain": [
       "Figure(PyObject <Figure size 600x400 with 1 Axes>)"
      ]
     },
     "metadata": {},
     "output_type": "display_data"
    }
   ],
   "source": [
    "x = -log.(ες)\n",
    "plot(x, Es); xlabel(\"-log(ε)\"); ylabel(\"Entropy\");\n",
    "plot([x[4], x[4]], [0, 15], color = \"C1\", alpha = 0.5)\n",
    "plot([x[end-3], x[end-3]], [0, 15], color = \"C1\", alpha = 0.5);"
   ]
  },
  {
   "cell_type": "markdown",
   "metadata": {},
   "source": [
    "What typically happens is that there is some region where this scaling behavior holds, but then it stops holding due to the finite amount of data points.\n",
    "\n",
    "Above, the expected scaling behavior holds between the orange vertical lines.\n",
    "\n",
    "Let's choose the curve points that do fall in the linear regime of the above plot,"
   ]
  },
  {
   "cell_type": "code",
   "execution_count": 115,
   "metadata": {},
   "outputs": [
    {
     "data": {
      "text/plain": [
       "([6.07045, 5.02382, 3.97719, 2.93056, 1.88393, 0.837304, -0.209326], [12.547, 10.4841, 8.2341, 5.98345, 3.74628, 1.29357, -0.0])"
      ]
     },
     "execution_count": 115,
     "metadata": {},
     "output_type": "execute_result"
    }
   ],
   "source": [
    "x, y = -log.(ες)[4:end-2], Es[4:end-2]"
   ]
  },
  {
   "cell_type": "markdown",
   "metadata": {},
   "source": [
    "and find the slope of the curve there, to calculate the dimension, D."
   ]
  },
  {
   "cell_type": "code",
   "execution_count": 116,
   "metadata": {},
   "outputs": [
    {
     "data": {
      "text/plain": [
       "2.0647875290900046"
      ]
     },
     "execution_count": 116,
     "metadata": {},
     "output_type": "execute_result"
    }
   ],
   "source": [
    "using ChaosTools\n",
    "offset, slope = ChaosTools.linreg(x, y)\n",
    "D = slope"
   ]
  },
  {
   "cell_type": "markdown",
   "metadata": {},
   "source": [
    "This is actually a correct result, the information dimension of the attractor of the towel map is around 2.\n",
    "\n",
    "---\n",
    "\n",
    "* Are the values of `ες` we used good? \n",
    "* For a general dataset, how can we determine them?\n",
    "\n",
    "the function `estimate_boxsizes(dataset; kwargs...)` can help with that!"
   ]
  },
  {
   "cell_type": "code",
   "execution_count": 133,
   "metadata": {},
   "outputs": [
    {
     "data": {
      "text/plain": [
       "12-element Array{Float64,1}:\n",
       " 0.0001               \n",
       " 0.0001873817422860385\n",
       " 0.0003511191734215131\n",
       " 0.0006579332246575682\n",
       " 0.0012328467394420659\n",
       " 0.0023101297000831605\n",
       " 0.004328761281083057 \n",
       " 0.008111308307896872 \n",
       " 0.01519911082952934  \n",
       " 0.02848035868435802  \n",
       " 0.0533669923120631   \n",
       " 0.1                  "
      ]
     },
     "execution_count": 133,
     "metadata": {},
     "output_type": "execute_result"
    }
   ],
   "source": [
    "ες = estimate_boxsizes(towel_tr)"
   ]
  },
  {
   "cell_type": "markdown",
   "metadata": {},
   "source": [
    "Let's plot $E$ vs. $-\\log \\epsilon$ again"
   ]
  },
  {
   "cell_type": "code",
   "execution_count": 134,
   "metadata": {},
   "outputs": [
    {
     "data": {
      "image/png": "[encoded data removed]",
      "text/plain": [
       "Figure(PyObject <Figure size 600x400 with 1 Axes>)"
      ]
     },
     "metadata": {},
     "output_type": "display_data"
    }
   ],
   "source": [
    "Es = genentropy.(1, ες, Ref(towel_tr))\n",
    "plot(-log.(ες), Es); xlabel(\"-log(ε)\"); ylabel(\"E\");"
   ]
  },
  {
   "cell_type": "markdown",
   "metadata": {},
   "source": [
    "---\n",
    "# 4.D. Automated Dimension Estimation\n",
    "\n",
    "Given some arbitrary plot like the one above, is there any algorithm to deduce a scaling region???\n",
    "\n",
    "The function `linear_regions(x, y; kwargs...)` decomposes the function `y(x)` into regions where  the function is linear.\n",
    "\n",
    "It returns the indices of `x` that correspond to linear regions and the approximated tangents at each region!"
   ]
  },
  {
   "cell_type": "code",
   "execution_count": 136,
   "metadata": {},
   "outputs": [
    {
     "data": {
      "text/plain": [
       "([1, 2, 3, 4, 5, 6, 12], [0.0171639, 0.0601715, 0.194438, 0.54999, 1.1922, 1.87338])"
      ]
     },
     "execution_count": 136,
     "metadata": {},
     "output_type": "execute_result"
    }
   ],
   "source": [
    "xs = -log.(ες)\n",
    "lrs, slopes = linear_regions(xs, Es)"
   ]
  },
  {
   "cell_type": "code",
   "execution_count": 138,
   "metadata": {},
   "outputs": [
    {
     "data": {
      "image/png": "[encoded data removed]",
      "text/plain": [
       "Figure(PyObject <Figure size 600x400 with 1 Axes>)"
      ]
     },
     "metadata": {},
     "output_type": "display_data"
    }
   ],
   "source": [
    "for i in 1:length(lrs)-1\n",
    "    plot(xs[lrs[i]:lrs[i+1]], Es[lrs[i]:lrs[i+1]], marker = \"o\")\n",
    "end"
   ]
  },
  {
   "cell_type": "markdown",
   "metadata": {},
   "source": [
    "The linear region which is biggest is the \"probably correct one\". The function `linear_region` estimates its slope:"
   ]
  },
  {
   "cell_type": "code",
   "execution_count": 140,
   "metadata": {},
   "outputs": [
    {
     "data": {
      "text/plain": [
       "2.0839648692762864"
      ]
     },
     "execution_count": 140,
     "metadata": {},
     "output_type": "execute_result"
    }
   ],
   "source": [
    "linear_region(xs, Es)[2]"
   ]
  },
  {
   "cell_type": "markdown",
   "metadata": {},
   "source": [
    "## `generalized_dim` function"
   ]
  },
  {
   "cell_type": "markdown",
   "metadata": {},
   "source": [
    "Let's summarize what we just did to estimate the dimension of an attractor.\n",
    "\n",
    "1. We decided on some partition sizes `ες` to use (the function `estimate_boxsizes` can give an estimate for that).\n",
    "2. For each `ε` in `ες` we calculated the entropy via `genentropy`. We stored these entropies in an array `Es`.\n",
    "3. We tried to find a \"linear scaling region\" of the curve `Es` vs. `-log.(ες)`.\n",
    "4. The slope of this \"linear scaling region\" is the dimension we estimated.\n",
    "\n",
    "Wouldn't it be **cool** if all of this process could happen with one function call?\n",
    "\n",
    "This is *exactly* what the following function does:\n",
    "```julia\n",
    "generalized_dim(α, dataset, ες = estimate_boxsizes(tr))\n",
    "```\n",
    "which computes the `α`-order generalized dimension."
   ]
  },
  {
   "cell_type": "code",
   "execution_count": 122,
   "metadata": {},
   "outputs": [
    {
     "name": "stderr",
     "output_type": "stream",
     "text": [
      "┌ Warning: Boxsizes limits do not differ by 2 orders of magnitude or more. Setting `w -= 0.5; z += 0.5`. Please adjust keywords or provide a bigger dataset.\n",
      "└ @ ChaosTools C:\\Users\\datseris\\.julia\\dev\\ChaosTools\\src\\dimensions\\dims.jl:152\n"
     ]
    },
    {
     "data": {
      "text/plain": [
       "2.0550760646700748"
      ]
     },
     "execution_count": 122,
     "metadata": {},
     "output_type": "execute_result"
    }
   ],
   "source": [
    "generalized_dim(2.0, tr)"
   ]
  },
  {
   "cell_type": "markdown",
   "metadata": {},
   "source": [
    "Similarly, let's calculate the dimension of the Henon map that we have seen in previous tutorials,"
   ]
  },
  {
   "cell_type": "code",
   "execution_count": 124,
   "metadata": {},
   "outputs": [
    {
     "data": {
      "text/plain": [
       "1.2192730981829056"
      ]
     },
     "execution_count": 124,
     "metadata": {},
     "output_type": "execute_result"
    }
   ],
   "source": [
    "hen = Systems.henon()\n",
    "tr = trajectory(hen, 200000)\n",
    "generalized_dim(0, tr)"
   ]
  },
  {
   "cell_type": "markdown",
   "metadata": {},
   "source": [
    "### `generalized_dim` is but a crude estimate!\n",
    "\n",
    "**You must check and double-check and triple-check if you want more accuracy!**"
   ]
  },
  {
   "cell_type": "markdown",
   "metadata": {},
   "source": [
    "## Confirming Takens Theorem\n",
    "\n",
    "Recalling back from notebook 3, we discussed delay embeddings and how Takens theorem states that quantities like e.g. the attractor dimension remain the same between reconstructed and original systems.\n",
    "\n",
    "We can now show this numerically. We start with a trajectory from the system we used in notebook 3"
   ]
  },
  {
   "cell_type": "code",
   "execution_count": 125,
   "metadata": {},
   "outputs": [
    {
     "data": {
      "text/plain": [
       "3-dimensional continuous dynamical system\n",
       " state:       [1.0, 1.0, 1.0]\n",
       " e.o.m.:      gissinger_eom\n",
       " in-place?    false\n",
       " jacobian:    ForwardDiff\n",
       " parameters:  [0.119, 0.1, 0.9]"
      ]
     },
     "execution_count": 125,
     "metadata": {},
     "output_type": "execute_result"
    }
   ],
   "source": [
    "g = Systems.gissinger(ones(3))"
   ]
  },
  {
   "cell_type": "code",
   "execution_count": 126,
   "metadata": {},
   "outputs": [
    {
     "data": {
      "text/plain": [
       "\"200001-element Array{Float64,1}\""
      ]
     },
     "execution_count": 126,
     "metadata": {},
     "output_type": "execute_result"
    }
   ],
   "source": [
    "dt = 0.05\n",
    "data = trajectory(g, 10000.0, dt = dt)\n",
    "x = data[:, 1];\n",
    "summary(x)"
   ]
  },
  {
   "cell_type": "markdown",
   "metadata": {},
   "source": [
    "We estimate a good delay time using the first minimum of the mutual information"
   ]
  },
  {
   "cell_type": "code",
   "execution_count": 127,
   "metadata": {},
   "outputs": [
    {
     "data": {
      "text/plain": [
       "53"
      ]
     },
     "execution_count": 127,
     "metadata": {},
     "output_type": "execute_result"
    }
   ],
   "source": [
    "τ = estimate_delay(x, \"mi_min\")"
   ]
  },
  {
   "cell_type": "markdown",
   "metadata": {},
   "source": [
    "And embed the timeseries in three dimensions"
   ]
  },
  {
   "cell_type": "code",
   "execution_count": 128,
   "metadata": {},
   "outputs": [
    {
     "data": {
      "text/plain": [
       "\"3-dimensional Dataset{Float64} with 199895 points\""
      ]
     },
     "execution_count": 128,
     "metadata": {},
     "output_type": "execute_result"
    }
   ],
   "source": [
    "R = embed(x, 3, τ)\n",
    "summary(R)"
   ]
  },
  {
   "cell_type": "markdown",
   "metadata": {},
   "source": [
    "Using `generalized_dim` we can now compare the dimension estimated for the original trajectory `data` and the reconstructed trajectory `R`"
   ]
  },
  {
   "cell_type": "code",
   "execution_count": 129,
   "metadata": {},
   "outputs": [
    {
     "data": {
      "text/plain": [
       "1.9412977310927688"
      ]
     },
     "execution_count": 129,
     "metadata": {},
     "output_type": "execute_result"
    }
   ],
   "source": [
    "generalized_dim(1, data)"
   ]
  },
  {
   "cell_type": "code",
   "execution_count": 130,
   "metadata": {},
   "outputs": [
    {
     "data": {
      "text/plain": [
       "1.9527213609099903"
      ]
     },
     "execution_count": 130,
     "metadata": {},
     "output_type": "execute_result"
    }
   ],
   "source": [
    "generalized_dim(1, R)"
   ]
  }
 ],
 "metadata": {
  "kernelspec": {
   "display_name": "Julia 1.1.0",
   "language": "julia",
   "name": "julia-1.1"
  },
  "language_info": {
   "file_extension": ".jl",
   "mimetype": "application/julia",
   "name": "julia",
   "version": "1.1.0"
  }
 },
 "nbformat": 4,
 "nbformat_minor": 2
}
